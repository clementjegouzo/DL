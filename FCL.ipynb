{
 "cells": [
  {
   "cell_type": "code",
   "execution_count": 23,
   "id": "70d915ef",
   "metadata": {},
   "outputs": [],
   "source": [
    "import IPython\n",
    "import sys\n",
    "import numpy as np\n",
    "import matplotlib.pyplot as plt\n",
    "import tensorflow\n",
    "from tensorflow.keras import layers\n",
    "from tensorflow.keras.models import load_model, Model\n",
    "from tensorflow.keras.layers import Dense, Activation, Dropout, Input, LSTM, Reshape, Lambda, RepeatVector, Conv2D, MaxPooling2D, Flatten\n",
    "from tensorflow.keras.initializers import glorot_uniform\n",
    "from tensorflow.keras.utils import to_categorical\n",
    "from tensorflow.keras.optimizers import Adam\n",
    "from tensorflow.keras import backend as K\n",
    "from tensorflow.keras.models import Sequential\n",
    "from tensorflow.keras.optimizers import SGD\n",
    "import pandas as pd \n",
    "import csv"
   ]
  },
  {
   "cell_type": "raw",
   "id": "0c645f0b",
   "metadata": {},
   "source": [
    "We load the data."
   ]
  },
  {
   "cell_type": "code",
   "execution_count": 24,
   "id": "319aefa9",
   "metadata": {},
   "outputs": [],
   "source": [
    "x_train=np.load('train_x.npy')\n",
    "x_test=np.load('test_x.npy')\n",
    "y_train=np.load('train_y.npy')"
   ]
  },
  {
   "cell_type": "raw",
   "id": "e53a023b",
   "metadata": {},
   "source": [
    "We flatten the data to have on the first line every pixel and the other columns are the 102 spectral band values."
   ]
  },
  {
   "cell_type": "code",
   "execution_count": 25,
   "id": "5c5c64c2",
   "metadata": {},
   "outputs": [],
   "source": [
    "train_set_x_flatten = x_train.reshape(x_train.shape[2],x_train.shape[0]*x_train.shape[1]).T\n",
    "test_set_x_flatten = x_test.reshape(x_test.shape[2],x_test.shape[0]*x_test.shape[1]).T\n",
    "train_set_y_flatten = y_train.reshape(1,x_train.shape[0]*x_train.shape[1]).T"
   ]
  },
  {
   "cell_type": "raw",
   "id": "17a251e8",
   "metadata": {},
   "source": [
    "We store the number of classes and we transform the y vector in order to represent every class as a vector."
   ]
  },
  {
   "cell_type": "code",
   "execution_count": 26,
   "id": "ac446add",
   "metadata": {},
   "outputs": [],
   "source": [
    "num_classes=int(max(train_set_y_flatten)[0]+1)\n",
    "y= to_categorical(train_set_y_flatten,num_classes)"
   ]
  },
  {
   "cell_type": "raw",
   "id": "c0c64498",
   "metadata": {},
   "source": [
    "We split the train vectors into a train and a validation vector."
   ]
  },
  {
   "cell_type": "code",
   "execution_count": 27,
   "id": "18546b4c",
   "metadata": {},
   "outputs": [],
   "source": [
    "xt = train_set_x_flatten[0:int(len(train_set_x_flatten)*0.7),:]\n",
    "xv = train_set_x_flatten[int(len(train_set_x_flatten)*0.7):len(train_set_x_flatten),:]\n",
    "yt = y[0:int(len(y)*0.7),:]\n",
    "yv = y[int(len(y)*0.7):len(y),:]"
   ]
  },
  {
   "cell_type": "raw",
   "id": "d96d0521",
   "metadata": {},
   "source": [
    "We build the neural networks. Since we want to sutdy every pixel, we flatten and use relu instead of looking for dimensional reduction methods like convolutions. On the input, we lay down 103 neurons since one pixel is described by 103 values. We then procede to add several dense relus with cascading sizes. We did this part by testing different configurations and we stay with the best accuracy model. In the end, we put a final dense with a softmax activation. Since we want to classify these pixel, the softmax will take care of it. We registered before the number of classes in the dataset to put the dimension of our output."
   ]
  },
  {
   "cell_type": "code",
   "execution_count": 28,
   "id": "ceb95b85",
   "metadata": {},
   "outputs": [],
   "source": [
    "model = Sequential()\n",
    "model.add(Dense(103, activation=\"relu\"))\n",
    "model.add(Dense(80, activation=\"relu\"))\n",
    "model.add(Dense(60, activation=\"relu\"))\n",
    "model.add(Dense(40, activation=\"relu\"))\n",
    "model.add(Dense(20, activation=\"relu\"))\n",
    "model.add(Dense(num_classes, activation=\"softmax\"))"
   ]
  },
  {
   "cell_type": "raw",
   "id": "2e2f06a0",
   "metadata": {},
   "source": [
    "We compile and we train the system on the train data."
   ]
  },
  {
   "cell_type": "code",
   "execution_count": 29,
   "id": "019c0103",
   "metadata": {},
   "outputs": [
    {
     "name": "stdout",
     "output_type": "stream",
     "text": [
      "Epoch 1/20\n",
      "145/145 [==============================] - 1s 2ms/step - loss: 5.5653 - acc: 0.7522 - val_loss: 1.0685 - val_acc: 0.7895\n",
      "Epoch 2/20\n",
      "145/145 [==============================] - 0s 1ms/step - loss: 0.3508 - acc: 0.8354 - val_loss: 0.7105 - val_acc: 0.7940\n",
      "Epoch 3/20\n",
      "145/145 [==============================] - 0s 1ms/step - loss: 0.2009 - acc: 0.8480 - val_loss: 0.5558 - val_acc: 0.8015\n",
      "Epoch 4/20\n",
      "145/145 [==============================] - 0s 1ms/step - loss: 0.1524 - acc: 0.8566 - val_loss: 0.4607 - val_acc: 0.8174\n",
      "Epoch 5/20\n",
      "145/145 [==============================] - 0s 1ms/step - loss: 0.1302 - acc: 0.8617 - val_loss: 0.4023 - val_acc: 0.8256\n",
      "Epoch 6/20\n",
      "145/145 [==============================] - 0s 1ms/step - loss: 0.1187 - acc: 0.8645 - val_loss: 0.3721 - val_acc: 0.8304\n",
      "Epoch 7/20\n",
      "145/145 [==============================] - 0s 1ms/step - loss: 0.1116 - acc: 0.8661 - val_loss: 0.3597 - val_acc: 0.8282\n",
      "Epoch 8/20\n",
      "145/145 [==============================] - 0s 1ms/step - loss: 0.1078 - acc: 0.8665 - val_loss: 0.3497 - val_acc: 0.8300\n",
      "Epoch 9/20\n",
      "145/145 [==============================] - 0s 1ms/step - loss: 0.1046 - acc: 0.8667 - val_loss: 0.3448 - val_acc: 0.8314\n",
      "Epoch 10/20\n",
      "145/145 [==============================] - 0s 1ms/step - loss: 0.1029 - acc: 0.8669 - val_loss: 0.3440 - val_acc: 0.8312\n",
      "Epoch 11/20\n",
      "145/145 [==============================] - 0s 1ms/step - loss: 0.1013 - acc: 0.8669 - val_loss: 0.3474 - val_acc: 0.8316\n",
      "Epoch 12/20\n",
      "145/145 [==============================] - 0s 1ms/step - loss: 0.1010 - acc: 0.8668 - val_loss: 0.3473 - val_acc: 0.8312\n",
      "Epoch 13/20\n",
      "145/145 [==============================] - 0s 1ms/step - loss: 0.1001 - acc: 0.8669 - val_loss: 0.3380 - val_acc: 0.8316\n",
      "Epoch 14/20\n",
      "145/145 [==============================] - 0s 1ms/step - loss: 0.0996 - acc: 0.8669 - val_loss: 0.3282 - val_acc: 0.8315\n",
      "Epoch 15/20\n",
      "145/145 [==============================] - 0s 1ms/step - loss: 0.0986 - acc: 0.8669 - val_loss: 0.3302 - val_acc: 0.8313\n",
      "Epoch 16/20\n",
      "145/145 [==============================] - 0s 1ms/step - loss: 0.0981 - acc: 0.8670 - val_loss: 0.3367 - val_acc: 0.8301\n",
      "Epoch 17/20\n",
      "145/145 [==============================] - 0s 1ms/step - loss: 0.0984 - acc: 0.8669 - val_loss: 0.3281 - val_acc: 0.8241\n",
      "Epoch 18/20\n",
      "145/145 [==============================] - 0s 1ms/step - loss: 0.0982 - acc: 0.8668 - val_loss: 0.3028 - val_acc: 0.8316\n",
      "Epoch 19/20\n",
      "145/145 [==============================] - 0s 1ms/step - loss: 0.0969 - acc: 0.8670 - val_loss: 0.3088 - val_acc: 0.8315\n",
      "Epoch 20/20\n",
      "145/145 [==============================] - 0s 1ms/step - loss: 0.0968 - acc: 0.8670 - val_loss: 0.2910 - val_acc: 0.8312\n"
     ]
    }
   ],
   "source": [
    "batch_size = 512\n",
    "epoch = 20\n",
    "model.compile(optimizer=\"Adam\",loss='binary_crossentropy',metrics=['acc'])\n",
    "output=model.fit(xt,yt,epochs=epoch, batch_size=batch_size, validation_data=(xv,yv))"
   ]
  },
  {
   "cell_type": "raw",
   "id": "aaf25e2f",
   "metadata": {},
   "source": [
    "We plot the loss of the model."
   ]
  },
  {
   "cell_type": "code",
   "execution_count": 30,
   "id": "f0904146",
   "metadata": {},
   "outputs": [
    {
     "data": {
      "text/plain": [
       "[<matplotlib.lines.Line2D at 0x281d0919be0>]"
      ]
     },
     "execution_count": 30,
     "metadata": {},
     "output_type": "execute_result"
    },
    {
     "data": {
      "image/png": "[encoded data removed]",
      "text/plain": [
       "<Figure size 432x288 with 1 Axes>"
      ]
     },
     "metadata": {
      "needs_background": "light"
     },
     "output_type": "display_data"
    }
   ],
   "source": [
    "mod_loss = output.history['loss']\n",
    "mod_val_loss = output.history['val_loss']\n",
    "plt.plot(mod_loss, label='mod_loss')\n",
    "plt.plot(mod_val_loss, label='mod_val_loss')"
   ]
  },
  {
   "cell_type": "raw",
   "id": "b807fa54",
   "metadata": {},
   "source": [
    "We build our final ouput vector by inverting the to_categorical to associate a class number with every pixel. Since we don't have a y_test to compare with our predict output, we predict the train set and compare it with our y_train to check the precision."
   ]
  },
  {
   "cell_type": "code",
   "execution_count": 31,
   "id": "6ceced78",
   "metadata": {},
   "outputs": [],
   "source": [
    "y_train_acc=model.predict(train_set_x_flatten)\n",
    "yb=[]\n",
    "for i in range(y_train_acc.shape[0]):\n",
    "    yb.append(np.argmax(y_train_acc[i,:]))\n",
    "a=np.array(yb)"
   ]
  },
  {
   "cell_type": "raw",
   "id": "761f9ced",
   "metadata": {},
   "source": [
    "We print the accuracy of our model."
   ]
  },
  {
   "cell_type": "code",
   "execution_count": 32,
   "id": "9612c4a9",
   "metadata": {},
   "outputs": [
    {
     "name": "stdout",
     "output_type": "stream",
     "text": [
      "Precision:  85.62903225806451 %\n"
     ]
    }
   ],
   "source": [
    "e=0\n",
    "for i in range(len(a)):\n",
    "    if a[i] == train_set_y_flatten[i]:\n",
    "        e=e+1\n",
    "print(\"Precision: \",e/len(a)*100,\"%\")"
   ]
  },
  {
   "cell_type": "raw",
   "id": "2934b9e5",
   "metadata": {},
   "source": [
    "Now that we have the accuracy of our model, we build the predict model of the x_test. We store our vector into a csv."
   ]
  },
  {
   "cell_type": "code",
   "execution_count": 34,
   "id": "680725c3",
   "metadata": {},
   "outputs": [
    {
     "name": "stdout",
     "output_type": "stream",
     "text": [
      "3012\n"
     ]
    }
   ],
   "source": [
    "y_test=model.predict(test_set_x_flatten)\n",
    "yt=[]\n",
    "for i in range(y_test.shape[0]):\n",
    "    yt.append(np.argmax(y_test[i,:]))\n",
    "sample=np.array(yt)\n",
    "sample=sample.reshape(len(sample),1)\n",
    "s = np.linspace(0,len(sample)-1,len(sample))\n",
    "s=s.reshape(len(s),1)\n",
    "sample1 = np.concatenate((s,sample),axis=1)\n",
    "np.savetxt('a.csv',sample1)"
   ]
  }
 ],
 "metadata": {
  "kernelspec": {
   "display_name": "Python 3",
   "language": "python",
   "name": "python3"
  },
  "language_info": {
   "codemirror_mode": {
    "name": "ipython",
    "version": 3
   },
   "file_extension": ".py",
   "mimetype": "text/x-python",
   "name": "python",
   "nbconvert_exporter": "python",
   "pygments_lexer": "ipython3",
   "version": "3.8.8"
  }
 },
 "nbformat": 4,
 "nbformat_minor": 5
}
