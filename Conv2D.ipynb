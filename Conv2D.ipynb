{
 "cells": [
  {
   "cell_type": "markdown",
   "metadata": {},
   "source": [
    "# <font color='black'>Deep Learning for Image Processing</font>\n",
    "\n",
    "---\n",
    "\n",
    "<img src=\"images/ipsa_logo.png\" width=\"100\" align=\"right\">\n",
    "\n",
    "\n",
    "> Year: **2020**\n",
    "\n",
    "> Version: **1.0**\n",
    "\n",
    "Welcome to Ma512- Deep Learning for Image Processing. In this first practical you will learn how to create a Convolutional Neural Network using Keras."
   ]
  },
  {
   "cell_type": "markdown",
   "metadata": {},
   "source": [
    "# Convolutional Neural Network for image classification\n",
    "\n",
    "In this practical exercice a convolutional neural network  is built using keras. It is then trained to classify image digits from the MNIST database."
   ]
  },
  {
   "cell_type": "markdown",
   "metadata": {},
   "source": [
    "##  Set-up ##\n",
    "\n",
    "First, let's run the cell below to import all the packages that you will need during this assignment. "
   ]
  },
  {
   "cell_type": "code",
   "execution_count": 1,
   "metadata": {},
   "outputs": [],
   "source": [
    "import tensorflow as tf\n",
    "from keras.datasets import mnist as db\n",
    "from keras.models import Sequential\n",
    "from keras.layers import Dense, Flatten, Conv2D, MaxPooling2D\n",
    "import numpy as np\n",
    "import matplotlib.pyplot as plt\n",
    "import h5py\n",
    "\n",
    "\n",
    "\n",
    "# Magic used by the notebook to show figures inline\n",
    "%matplotlib inline\n",
    "# matplotlib default values\n",
    "plt.rcParams['figure.figsize'] = (5.0, 5.0)\n",
    "plt.rcParams['image.interpolation'] = 'nearest'\n",
    "plt.rcParams['image.cmap'] = 'gray'\n",
    "\n",
    "# auto-reloading packages\n",
    "%load_ext autoreload\n",
    "%autoreload 2"
   ]
  },
  {
   "cell_type": "code",
   "execution_count": 2,
   "metadata": {},
   "outputs": [
    {
     "name": "stdout",
     "output_type": "stream",
     "text": [
      "Class:  1\n"
     ]
    },
    {
     "data": {
      "image/png": "[encoded data removed]",
      "text/plain": [
       "<Figure size 360x360 with 1 Axes>"
      ]
     },
     "metadata": {
      "needs_background": "light"
     },
     "output_type": "display_data"
    }
   ],
   "source": [
    "# Load and have a look at the data\n",
    "(x, y), (x_test, y_test) = db.load_data()\n",
    "\n",
    "# Visualize a single digit, with its class\n",
    "index = 3\n",
    "plt.imshow(x[index])\n",
    "print(\"Class: \", y[index])"
   ]
  },
  {
   "cell_type": "code",
   "execution_count": 3,
   "metadata": {},
   "outputs": [
    {
     "name": "stdout",
     "output_type": "stream",
     "text": [
      "channels_last\n",
      "(55000, 28, 28, 1) x train samples\n",
      "(5000, 28, 28, 1) x val samples\n",
      "(10000, 28, 28, 1) x test samples\n",
      "(55000,) y train samples\n",
      "(5000,) y val samples\n",
      "(10000,) y test samples\n"
     ]
    }
   ],
   "source": [
    "from keras import backend as K\n",
    "print(K.image_data_format())\n",
    "\n",
    "nb_samples = x.shape[0]\n",
    "val_nb = 5000  # samples in the valudation set\n",
    "if val_nb > nb_samples:\n",
    "    raise ValueError(\"More samples are need i\")\n",
    "\n",
    "img_rows, img_cols = x.shape[1:3]  # input image dimensions\n",
    "\n",
    "x = x.reshape(nb_samples, img_rows, img_cols, 1)\n",
    "x_test = x_test.reshape(x_test.shape[0], img_rows, img_cols, 1)\n",
    "\n",
    "x = x.astype('float32')\n",
    "x_test = x_test.astype('float32')\n",
    "x /= 255\n",
    "x_test /= 255\n",
    "\n",
    "x_val = x[:val_nb, ]\n",
    "x_train = x[val_nb:, ]\n",
    "y_val = y[:val_nb]\n",
    "y_train = y[val_nb:]\n",
    "\n",
    "print(x_train.shape, 'x train samples')\n",
    "print(x_val.shape, 'x val samples')\n",
    "print(x_test.shape, 'x test samples')\n",
    "print(y_train.shape, 'y train samples')\n",
    "print(y_val.shape, 'y val samples')\n",
    "print(y_test.shape, 'y test samples')\n",
    "\n",
    "# Convert class vectors to binary class vectors - One-hot representations\n",
    "num_classes = max(y) + 1\n",
    "y_train = tf.keras.utils.to_categorical(y_train, num_classes)\n",
    "y_val = tf.keras.utils.to_categorical(y_val, num_classes)"
   ]
  },
  {
   "cell_type": "markdown",
   "metadata": {},
   "source": [
    "# Model definition\n",
    "\n",
    "I the following you will use keras to create a convolutional neural network. The definition of the has to respect some constraints:\n",
    "\n",
    "- The input shape has to match the size of each input sample. \n",
    "- The ouptput should be of size the number of classes(num_classes). Here it is 10.\n",
    "\n",
    "Use `Sequential(), Conv2D(), MaxPooling2D(poolsize = ()), Flatten()` and `Dense()` to define a convolutional neural network. You can start using an architecture as the one defined in class."
   ]
  },
  {
   "cell_type": "code",
   "execution_count": 18,
   "metadata": {},
   "outputs": [
    {
     "name": "stdout",
     "output_type": "stream",
     "text": [
      "Model: \"sequential_2\"\n",
      "_________________________________________________________________\n",
      " Layer (type)                Output Shape              Param #   \n",
      "=================================================================\n",
      " conv2d_4 (Conv2D)           (None, 26, 26, 32)        320       \n",
      "                                                                 \n",
      " max_pooling2d_4 (MaxPooling  (None, 13, 13, 32)       0         \n",
      " 2D)                                                             \n",
      "                                                                 \n",
      " conv2d_5 (Conv2D)           (None, 11, 11, 64)        18496     \n",
      "                                                                 \n",
      " max_pooling2d_5 (MaxPooling  (None, 5, 5, 64)         0         \n",
      " 2D)                                                             \n",
      "                                                                 \n",
      " flatten_2 (Flatten)         (None, 1600)              0         \n",
      "                                                                 \n",
      " dense_4 (Dense)             (None, 128)               204928    \n",
      "                                                                 \n",
      " dense_5 (Dense)             (None, 10)                1290      \n",
      "                                                                 \n",
      " softmax_2 (Softmax)         (None, 10)                0         \n",
      "                                                                 \n",
      "=================================================================\n",
      "Total params: 225,034\n",
      "Trainable params: 225,034\n",
      "Non-trainable params: 0\n",
      "_________________________________________________________________\n"
     ]
    }
   ],
   "source": [
    "filters_layer0 = 32\n",
    "nb_dense = 128\n",
    "### START CODE HERE ###\n",
    "model = Sequential()\n",
    "\n",
    "model.add(Conv2D(filters=filters_layer0, kernel_size=3, activation=\"relu\",\n",
    "          input_shape=x_train.shape[1:]))\n",
    "model.add(MaxPooling2D())\n",
    "\n",
    "model.add(Conv2D(filters=filters_layer0*2, kernel_size=3, activation=\"relu\",))\n",
    "model.add(MaxPooling2D())\n",
    "\n",
    "model.add(Flatten())\n",
    "\n",
    "model.add(Dense(nb_dense, activation=\"relu\"))\n",
    "model.add(Dense(10, activation=\"relu\"))\n",
    "model.add(tf.keras.layers.Softmax())\n",
    "### END CODE HERE ###\n",
    "\n",
    "\n",
    "model.summary()\n",
    "\n",
    "\n"
   ]
  },
  {
   "cell_type": "markdown",
   "metadata": {},
   "source": [
    "# Model training\n",
    "\n",
    "Use the method `compile` to define the computational graph and the method `fit` to optimize the model for the  training set defined above and using the corresponding validation set."
   ]
  },
  {
   "cell_type": "code",
   "execution_count": 19,
   "metadata": {},
   "outputs": [
    {
     "name": "stdout",
     "output_type": "stream",
     "text": [
      "Epoch 1/20\n",
      "108/108 [==============================] - 9s 79ms/step - loss: 0.1492 - acc: 0.6375 - val_loss: 0.1098 - val_acc: 0.6918\n",
      "Epoch 2/20\n",
      "108/108 [==============================] - 9s 81ms/step - loss: 0.1091 - acc: 0.6913 - val_loss: 0.1041 - val_acc: 0.7002\n",
      "Epoch 3/20\n",
      "108/108 [==============================] - 8s 78ms/step - loss: 0.1050 - acc: 0.6965 - val_loss: 0.1019 - val_acc: 0.7040\n",
      "Epoch 4/20\n",
      "108/108 [==============================] - 8s 75ms/step - loss: 0.1026 - acc: 0.6995 - val_loss: 0.1012 - val_acc: 0.7048\n",
      "Epoch 5/20\n",
      "108/108 [==============================] - 8s 77ms/step - loss: 0.1014 - acc: 0.7007 - val_loss: 0.1029 - val_acc: 0.7028\n",
      "Epoch 6/20\n",
      "108/108 [==============================] - 8s 75ms/step - loss: 0.1001 - acc: 0.7024 - val_loss: 0.1000 - val_acc: 0.7056\n",
      "Epoch 7/20\n",
      "108/108 [==============================] - 8s 78ms/step - loss: 0.0996 - acc: 0.7028 - val_loss: 0.0996 - val_acc: 0.7072\n",
      "Epoch 8/20\n",
      "108/108 [==============================] - 9s 79ms/step - loss: 0.0992 - acc: 0.7033 - val_loss: 0.0988 - val_acc: 0.7090\n",
      "Epoch 9/20\n",
      "108/108 [==============================] - 8s 78ms/step - loss: 0.0985 - acc: 0.7044 - val_loss: 0.0989 - val_acc: 0.7070\n",
      "Epoch 10/20\n",
      "108/108 [==============================] - 9s 79ms/step - loss: 0.0983 - acc: 0.7043 - val_loss: 0.1000 - val_acc: 0.7054\n",
      "Epoch 11/20\n",
      "108/108 [==============================] - 8s 76ms/step - loss: 0.0980 - acc: 0.7046 - val_loss: 0.0986 - val_acc: 0.7078\n",
      "Epoch 12/20\n",
      "108/108 [==============================] - 8s 77ms/step - loss: 0.0973 - acc: 0.7053 - val_loss: 0.0991 - val_acc: 0.7070\n",
      "Epoch 13/20\n",
      "108/108 [==============================] - 8s 75ms/step - loss: 0.0971 - acc: 0.7057 - val_loss: 0.0984 - val_acc: 0.7074\n",
      "Epoch 14/20\n",
      "108/108 [==============================] - 8s 79ms/step - loss: 0.0968 - acc: 0.7059 - val_loss: 0.0980 - val_acc: 0.7082\n",
      "Epoch 15/20\n",
      "108/108 [==============================] - 8s 77ms/step - loss: 0.0968 - acc: 0.7061 - val_loss: 0.0981 - val_acc: 0.7084\n",
      "Epoch 16/20\n",
      "108/108 [==============================] - 8s 77ms/step - loss: 0.0966 - acc: 0.7062 - val_loss: 0.0975 - val_acc: 0.7082\n",
      "Epoch 17/20\n",
      "108/108 [==============================] - 9s 80ms/step - loss: 0.0963 - acc: 0.7066 - val_loss: 0.0980 - val_acc: 0.7080\n",
      "Epoch 18/20\n",
      "108/108 [==============================] - 8s 78ms/step - loss: 0.0963 - acc: 0.7065 - val_loss: 0.0981 - val_acc: 0.7080\n",
      "Epoch 19/20\n",
      "108/108 [==============================] - 8s 76ms/step - loss: 0.0961 - acc: 0.7068 - val_loss: 0.0980 - val_acc: 0.7084\n",
      "Epoch 20/20\n",
      "108/108 [==============================] - 8s 78ms/step - loss: 0.0958 - acc: 0.7071 - val_loss: 0.0971 - val_acc: 0.7092\n"
     ]
    }
   ],
   "source": [
    "from tensorflow.keras.optimizers import SGD\n",
    "\n",
    "### START CODE HERE ###\n",
    "batch_size = 512\n",
    "epochs = 20\n",
    "learning_rate = 0.1\n",
    "\n",
    "#model.compile(optimizer=SGD(learning_rate),loss='binary_crossentropy',metrics=['acc'])\n",
    "model.compile(optimizer=\"Adam\",loss='binary_crossentropy',metrics=['acc'])\n",
    "\n",
    "output = model.fit(x_train, y_train,epochs=epochs, batch_size=batch_size,\n",
    "                   validation_data=(x_val, y_val))\n",
    "\n",
    "### END CODE HERE ###\n"
   ]
  },
  {
   "cell_type": "markdown",
   "metadata": {},
   "source": [
    "# Learning curves\n",
    "\n",
    "Plotting the learning curves allows you to\n",
    "- inspect the traning and validation performance in the training stage,\n",
    "\n",
    "- analyze the examples which are not working.\n",
    "\n",
    "Can you tell of the network is overfitting? How can it be reduced?"
   ]
  },
  {
   "cell_type": "code",
   "execution_count": 20,
   "metadata": {},
   "outputs": [
    {
     "data": {
      "text/plain": [
       "<matplotlib.legend.Legend at 0x16f5e535610>"
      ]
     },
     "execution_count": 20,
     "metadata": {},
     "output_type": "execute_result"
    },
    {
     "data": {
      "image/png": "[encoded data removed]",
      "text/plain": [
       "<Figure size 360x360 with 1 Axes>"
      ]
     },
     "metadata": {
      "needs_background": "light"
     },
     "output_type": "display_data"
    }
   ],
   "source": [
    "# Plotting the performance of the network\n",
    "plt.plot(output.epoch, output.history['loss'], label='train')\n",
    "plt.plot(output.epoch, output.history['val_loss'], label='val')\n",
    "plt.title('Training and validation performance')\n",
    "plt.ylabel('loss')\n",
    "plt.xlabel('epoch')\n",
    "plt.legend()"
   ]
  },
  {
   "cell_type": "markdown",
   "metadata": {},
   "source": [
    "# Plotting activations of the neurons\n",
    "\n",
    "Given a certain input is possible to show the activations of the neurons of the convolutional layers. Run the cells below to understand how to display the activation for the different layers of the CNN."
   ]
  },
  {
   "cell_type": "code",
   "execution_count": 37,
   "metadata": {},
   "outputs": [
    {
     "name": "stdout",
     "output_type": "stream",
     "text": [
      "Class:  [6]\n"
     ]
    },
    {
     "data": {
      "image/png": "[encoded data removed]",
      "text/plain": [
       "<Figure size 360x360 with 1 Axes>"
      ]
     },
     "metadata": {
      "needs_background": "light"
     },
     "output_type": "display_data"
    }
   ],
   "source": [
    "# Choose a random sample from the training data\n",
    "index = np.random.randint(0, len(x_train))\n",
    "sample = x_train[index]\n",
    "\n",
    "plt.imshow(sample[:,:,0])\n",
    "print(\"Class: \", np.arange(num_classes)[y_train[index].astype('bool')])"
   ]
  },
  {
   "cell_type": "code",
   "execution_count": 38,
   "metadata": {},
   "outputs": [],
   "source": [
    "from keras.models import Model\n",
    "\n",
    "layer_outputs = [layer.output for layer in model.layers]\n",
    "activation_model = Model(inputs=model.input, outputs=layer_outputs)\n",
    "activations = activation_model.predict(sample.reshape(1,28,28,1))\n",
    " \n",
    "def display_activation(activations, col_size, row_size, act_index): \n",
    "    activation = activations[act_index]\n",
    "    activation_index=0\n",
    "    fig, ax = plt.subplots(row_size, col_size, figsize=(row_size*2.5,col_size*1.5))\n",
    "    for row in range(0,row_size):\n",
    "        for col in range(0,col_size):\n",
    "            ax[row][col].imshow(activation[0, :, :, activation_index], cmap=plt.cm.bwr)\n",
    "            ax[row][col].axis('off')\n",
    "            activation_index += 1"
   ]
  },
  {
   "cell_type": "code",
   "execution_count": 39,
   "metadata": {},
   "outputs": [
    {
     "name": "stdout",
     "output_type": "stream",
     "text": [
      "Activations values in the first convolutional layer\n"
     ]
    },
    {
     "data": {
      "image/png": "[encoded data removed]",
      "text/plain": [
       "<Figure size 720x864 with 32 Axes>"
      ]
     },
     "metadata": {
      "needs_background": "light"
     },
     "output_type": "display_data"
    }
   ],
   "source": [
    "# display activation layer of the first filter\n",
    "print('Activations values in the first convolutional layer')\n",
    "display_activation(activations, 8, 4, 0)"
   ]
  },
  {
   "cell_type": "code",
   "execution_count": 40,
   "metadata": {},
   "outputs": [
    {
     "name": "stdout",
     "output_type": "stream",
     "text": [
      "Activations values in the second convolutional layer\n"
     ]
    },
    {
     "data": {
      "image/png": "[encoded data removed]",
      "text/plain": [
       "<Figure size 720x864 with 32 Axes>"
      ]
     },
     "metadata": {
      "needs_background": "light"
     },
     "output_type": "display_data"
    }
   ],
   "source": [
    "# display activation filter of the second filter\n",
    "print('Activations values in the second convolutional layer')\n",
    "display_activation(activations, 8, 4, 1)"
   ]
  },
  {
   "cell_type": "markdown",
   "metadata": {},
   "source": [
    "# Testing\n",
    "\n",
    "Test the model on the test set and evaluate its performance."
   ]
  },
  {
   "cell_type": "code",
   "execution_count": 41,
   "metadata": {},
   "outputs": [
    {
     "name": "stdout",
     "output_type": "stream",
     "text": [
      "313/313 [==============================] - 1s 2ms/step - loss: 38.6823 - acc: 0.3805\n",
      "Test loss: 38.682281494140625\n",
      "Test accuracy: 0.3804999887943268\n"
     ]
    }
   ],
   "source": [
    "### START CODE HERE ###\n",
    "\n",
    "\n",
    "score = model.evaluate(x_test,y_test)\n",
    "\n",
    "print('Test loss:', score[0])\n",
    "print('Test accuracy:', score[1])"
   ]
  },
  {
   "cell_type": "code",
   "execution_count": 42,
   "metadata": {},
   "outputs": [
    {
     "name": "stdout",
     "output_type": "stream",
     "text": [
      "Correct label is:  5\n",
      "Predicted label is:  0\n",
      "Probabilities:  [0.1 0.1 0.1 0.1 0.1 0.1 0.1 0.1 0.1 0.1]\n"
     ]
    },
    {
     "data": {
      "text/plain": [
       "<matplotlib.image.AxesImage at 0x16f5e7392b0>"
      ]
     },
     "execution_count": 42,
     "metadata": {},
     "output_type": "execute_result"
    },
    {
     "data": {
      "image/png": "[encoded data removed]",
      "text/plain": [
       "<Figure size 360x360 with 1 Axes>"
      ]
     },
     "metadata": {
      "needs_background": "light"
     },
     "output_type": "display_data"
    }
   ],
   "source": [
    "y_predict_proba = model.predict(x_test)\n",
    "\n",
    "y_predict = np.argmax(y_predict_proba, 1)\n",
    "\n",
    "diff = y_test != y_predict\n",
    "x_test_errors = x_test[diff]\n",
    "y_test_errors = y_test[diff]\n",
    "y_predict_errors = y_predict[diff]\n",
    "y_predict_proba_errors = y_predict_proba[diff]\n",
    "\n",
    "index = 0\n",
    "\n",
    "print(\"Correct label is: \", y_test_errors[index])\n",
    "print(\"Predicted label is: \", y_predict_errors[index])\n",
    "print(\"Probabilities: \", y_predict_proba_errors[index])\n",
    "plt.imshow(np.squeeze(x_test_errors[index]))"
   ]
  },
  {
   "cell_type": "markdown",
   "metadata": {},
   "source": [
    "# Experimenting with a more complex database\n",
    "\n",
    "In the second cell, you can replace:\n",
    "\n",
    "<code>from keras.datasets import mnist as db</code>\n",
    "\n",
    "with:\n",
    "\n",
    "<code>from keras.datasets import fashion_mnist as db</code>\n",
    "\n",
    "in order to experiment with a more complex database. \n",
    "Use the following dictionary to transform number labels into meaningfull labels:"
   ]
  },
  {
   "cell_type": "code",
   "execution_count": 36,
   "metadata": {},
   "outputs": [
    {
     "name": "stdout",
     "output_type": "stream",
     "text": [
      "Pullover\n"
     ]
    }
   ],
   "source": [
    "fashion_dict = {\n",
    "    0: \"T-shirt/top\",\n",
    "    1: \"Trouser\",\n",
    "    2: \"Pullover\",\n",
    "    3: \"Dress\",\n",
    "    4: \"Coat\",\n",
    "    5: \"Sandal\",\n",
    "    6: \"Shirt\",\n",
    "    7: \"Sneaker\",\n",
    "    8: \"Bag\",\n",
    "    9: \"Ankle boot\"\n",
    "    }\n",
    "\n",
    "print(fashion_dict[2])"
   ]
  },
  {
   "cell_type": "markdown",
   "metadata": {},
   "source": []
  }
 ],
 "metadata": {
  "anaconda-cloud": {},
  "coursera": {
   "course_slug": "neural-networks-deep-learning",
   "graded_item_id": "XaIWT",
   "launcher_item_id": "zAgPl"
  },
  "kernelspec": {
   "display_name": "Python 3",
   "language": "python",
   "name": "python3"
  },
  "language_info": {
   "codemirror_mode": {
    "name": "ipython",
    "version": 3
   },
   "file_extension": ".py",
   "mimetype": "text/x-python",
   "name": "python",
   "nbconvert_exporter": "python",
   "pygments_lexer": "ipython3",
   "version": "3.8.8"
  }
 },
 "nbformat": 4,
 "nbformat_minor": 2
}
