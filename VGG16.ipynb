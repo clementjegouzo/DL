{
 "cells": [
  {
   "cell_type": "code",
   "execution_count": 1,
   "id": "8a25efc5",
   "metadata": {},
   "outputs": [],
   "source": [
    "import IPython\n",
    "import sys\n",
    "import numpy as np\n",
    "import matplotlib.pyplot as plt\n",
    "import tensorflow as tf\n",
    "from tensorflow.keras import layers\n",
    "from tensorflow.keras.models import load_model, Model\n",
    "from tensorflow.keras.layers import Dense, Activation, Dropout, Input, LSTM, Reshape, Lambda, RepeatVector, Conv2D, MaxPooling2D, Flatten\n",
    "from tensorflow.keras.layers import Conv1D,  MaxPooling1D\n",
    "from tensorflow.keras.initializers import glorot_uniform\n",
    "from tensorflow.keras.utils import to_categorical\n",
    "from tensorflow.keras.optimizers import Adam\n",
    "from tensorflow.keras import backend as K\n",
    "from tensorflow.keras.models import Sequential\n",
    "from tensorflow.keras.optimizers import SGD\n",
    "import pandas as pd \n",
    "import csv\n"
   ]
  },
  {
   "cell_type": "markdown",
   "id": "11c38d56",
   "metadata": {},
   "source": [
    "On récupère les sets d'entrainement que l'on split pour avoir un set de train et un set de validation"
   ]
  },
  {
   "cell_type": "code",
   "execution_count": 2,
   "id": "594cba9b",
   "metadata": {},
   "outputs": [],
   "source": [
    "x_train=np.load('x_train.npy')\n",
    "y_train=np.load('y_train.npy')\n",
    "\n",
    "val_nb=int(x_train.shape[0]*0.7)\n",
    "x_t=x_train[:val_nb]\n",
    "x_v=x_train[val_nb:]\n",
    "y_t=y_train[:val_nb]\n",
    "y_v=y_train[val_nb:]\n",
    "x_t = x_t.reshape(x_t.shape[0],x_t.shape[1],x_t.shape[2], 1)\n",
    "x_v = x_v.reshape(x_v.shape[0],x_v.shape[1],x_v.shape[2], 1)\n",
    "y_t = y_t.reshape(y_t.shape[0], 1)\n",
    "y_v = y_v.reshape(y_v.shape[0], 1)"
   ]
  },
  {
   "cell_type": "markdown",
   "id": "a1aa86a0",
   "metadata": {},
   "source": [
    "On definit ici un 1er modèle, lourd puisqu'il possède environ 30 millions de paramètres. On s'est inspiré des VGG16 vu en cours."
   ]
  },
  {
   "cell_type": "code",
   "execution_count": 3,
   "id": "530c7221",
   "metadata": {},
   "outputs": [
    {
     "name": "stdout",
     "output_type": "stream",
     "text": [
      "Model: \"Modele_initial\"\n",
      "_________________________________________________________________\n",
      " Layer (type)                Output Shape              Param #   \n",
      "=================================================================\n",
      " conv2d (Conv2D)             (None, 32, 32, 64)        128       \n",
      "                                                                 \n",
      " conv2d_1 (Conv2D)           (None, 32, 32, 64)        4160      \n",
      "                                                                 \n",
      " max_pooling2d (MaxPooling2D  (None, 16, 16, 64)       0         \n",
      " )                                                               \n",
      "                                                                 \n",
      " conv2d_2 (Conv2D)           (None, 16, 16, 128)       8320      \n",
      "                                                                 \n",
      " conv2d_3 (Conv2D)           (None, 16, 16, 128)       16512     \n",
      "                                                                 \n",
      " max_pooling2d_1 (MaxPooling  (None, 8, 8, 128)        0         \n",
      " 2D)                                                             \n",
      "                                                                 \n",
      " conv2d_4 (Conv2D)           (None, 8, 8, 256)         33024     \n",
      "                                                                 \n",
      " conv2d_5 (Conv2D)           (None, 8, 8, 256)         65792     \n",
      "                                                                 \n",
      " conv2d_6 (Conv2D)           (None, 8, 8, 256)         65792     \n",
      "                                                                 \n",
      " max_pooling2d_2 (MaxPooling  (None, 4, 4, 256)        0         \n",
      " 2D)                                                             \n",
      "                                                                 \n",
      " flatten (Flatten)           (None, 4096)              0         \n",
      "                                                                 \n",
      " dense (Dense)               (None, 4096)              16781312  \n",
      "                                                                 \n",
      " dropout (Dropout)           (None, 4096)              0         \n",
      "                                                                 \n",
      " dense_1 (Dense)             (None, 2048)              8390656   \n",
      "                                                                 \n",
      " dropout_1 (Dropout)         (None, 2048)              0         \n",
      "                                                                 \n",
      " dense_2 (Dense)             (None, 1024)              2098176   \n",
      "                                                                 \n",
      " dropout_2 (Dropout)         (None, 1024)              0         \n",
      "                                                                 \n",
      " dense_3 (Dense)             (None, 1)                 1025      \n",
      "                                                                 \n",
      "=================================================================\n",
      "Total params: 27,464,897\n",
      "Trainable params: 27,464,897\n",
      "Non-trainable params: 0\n",
      "_________________________________________________________________\n"
     ]
    }
   ],
   "source": [
    "model = Sequential(name=\"Modele_initial\")\n",
    "\n",
    "model.add(Conv2D(64, 1,activation=\"relu\",input_shape=(x_t.shape[1::])))\n",
    "model.add(Conv2D(64, 1,activation=\"relu\"))\n",
    "model.add(MaxPooling2D((2,2),strides=(2,2)))\n",
    "\n",
    "model.add(Conv2D(128, 1,activation=\"relu\"))\n",
    "model.add(Conv2D(128, 1,activation=\"relu\"))\n",
    "model.add(MaxPooling2D((2,2),strides=(2,2)))\n",
    "\n",
    "model.add(Conv2D(256, 1,activation=\"relu\"))\n",
    "model.add(Conv2D(256, 1,activation=\"relu\"))\n",
    "model.add(Conv2D(256, 1,activation=\"relu\"))\n",
    "model.add(MaxPooling2D((2,2),strides=(2,2)))\n",
    "\n",
    "\n",
    "model.add(Flatten())\n",
    "model.add(Dense(4096,activation=\"relu\"))\n",
    "model.add(Dropout(0.5))\n",
    "model.add(Dense(2048,activation=\"relu\"))\n",
    "model.add(Dropout(0.5))\n",
    "model.add(Dense(1024,activation=\"relu\"))\n",
    "model.add(Dropout(0.5))\n",
    "model.add(Dense(1,activation=\"relu\"))\n",
    "\n",
    "\n",
    "\n",
    "model.summary()"
   ]
  },
  {
   "cell_type": "markdown",
   "id": "3f3f292f",
   "metadata": {},
   "source": [
    "On compile le modèle avec un optimizer Adam et une erreur carrée moyenne pour la loss. On fit ensuite le modèle."
   ]
  },
  {
   "cell_type": "code",
   "execution_count": 4,
   "id": "699c7b5c",
   "metadata": {},
   "outputs": [
    {
     "name": "stdout",
     "output_type": "stream",
     "text": [
      "Epoch 1/20\n",
      "64/64 [==============================] - 51s 796ms/step - loss: 13.3967 - val_loss: 0.1563\n",
      "Epoch 2/20\n",
      "64/64 [==============================] - 49s 768ms/step - loss: 1.0190 - val_loss: 0.0895\n",
      "Epoch 3/20\n",
      "64/64 [==============================] - 54s 843ms/step - loss: 0.9145 - val_loss: 0.0261\n",
      "Epoch 4/20\n",
      "64/64 [==============================] - 53s 823ms/step - loss: 0.8305 - val_loss: 0.0274\n",
      "Epoch 5/20\n",
      "64/64 [==============================] - 51s 791ms/step - loss: 0.8229 - val_loss: 0.0810\n",
      "Epoch 6/20\n",
      "64/64 [==============================] - 51s 797ms/step - loss: 0.8462 - val_loss: 0.0229\n",
      "Epoch 7/20\n",
      "64/64 [==============================] - 53s 832ms/step - loss: 0.8065 - val_loss: 0.0531\n",
      "Epoch 8/20\n",
      "64/64 [==============================] - 51s 792ms/step - loss: 0.7553 - val_loss: 0.0359\n",
      "Epoch 9/20\n",
      "64/64 [==============================] - 51s 804ms/step - loss: 0.7557 - val_loss: 0.0780\n",
      "Epoch 10/20\n",
      "64/64 [==============================] - 52s 817ms/step - loss: 0.7443 - val_loss: 0.0439\n",
      "Epoch 11/20\n",
      "64/64 [==============================] - 50s 788ms/step - loss: 0.7274 - val_loss: 0.2500\n",
      "Epoch 12/20\n",
      "64/64 [==============================] - 50s 788ms/step - loss: 0.8519 - val_loss: 0.0266\n",
      "Epoch 13/20\n",
      "64/64 [==============================] - 52s 821ms/step - loss: 0.7368 - val_loss: 0.0204\n",
      "Epoch 14/20\n",
      "64/64 [==============================] - 52s 814ms/step - loss: 0.7040 - val_loss: 0.0457\n",
      "Epoch 15/20\n",
      "64/64 [==============================] - 52s 806ms/step - loss: 0.7152 - val_loss: 0.1180\n",
      "Epoch 16/20\n",
      "64/64 [==============================] - 50s 783ms/step - loss: 0.6693 - val_loss: 0.0212\n",
      "Epoch 17/20\n",
      "64/64 [==============================] - 50s 785ms/step - loss: 0.6783 - val_loss: 0.2519\n",
      "Epoch 18/20\n",
      "64/64 [==============================] - 50s 790ms/step - loss: 0.6733 - val_loss: 0.0454\n",
      "Epoch 19/20\n",
      "64/64 [==============================] - 51s 797ms/step - loss: 0.6648 - val_loss: 0.0220\n",
      "Epoch 20/20\n",
      "64/64 [==============================] - 53s 827ms/step - loss: 0.6318 - val_loss: 0.0246\n"
     ]
    }
   ],
   "source": [
    "from tensorflow.keras.optimizers import SGD\n",
    "\n",
    "### START CODE HERE ###\n",
    "batch_size = 512\n",
    "epochs = 20\n",
    "learning_rate = 0.1\n",
    "\n",
    "model.compile(optimizer=\"Adam\",loss='mse')\n",
    "\n",
    "output = model.fit(x_t, y_t,epochs=epochs, batch_size=batch_size,validation_data=(x_v,y_v))"
   ]
  },
  {
   "cell_type": "markdown",
   "id": "f5c9152d",
   "metadata": {},
   "source": [
    "Ici on predit le train set pour pouvoir comparer la prédiction avec la sortie connue du train set y_train."
   ]
  },
  {
   "cell_type": "code",
   "execution_count": 5,
   "id": "550023b8",
   "metadata": {},
   "outputs": [],
   "source": [
    "y_pred=model.predict(x_t)\n"
   ]
  },
  {
   "cell_type": "markdown",
   "id": "f624eb43",
   "metadata": {},
   "source": [
    "On plot la performance du training et de la validation."
   ]
  },
  {
   "cell_type": "code",
   "execution_count": 6,
   "id": "03f70e00",
   "metadata": {},
   "outputs": [
    {
     "data": {
      "text/plain": [
       "<matplotlib.legend.Legend at 0x1f3cb6e7b80>"
      ]
     },
     "execution_count": 6,
     "metadata": {},
     "output_type": "execute_result"
    },
    {
     "data": {
      "image/png": "[encoded data removed]",
      "text/plain": [
       "<Figure size 432x288 with 1 Axes>"
      ]
     },
     "metadata": {
      "needs_background": "light"
     },
     "output_type": "display_data"
    }
   ],
   "source": [
    "# Plotting the performance of the network\n",
    "plt.plot(output.epoch, output.history['loss'], label='train')\n",
    "plt.plot(output.epoch, output.history['val_loss'], label='val')\n",
    "plt.title('Training and validation performance')\n",
    "plt.ylabel('loss')\n",
    "plt.xlabel('epoch')\n",
    "plt.legend()"
   ]
  },
  {
   "cell_type": "markdown",
   "id": "7881414e",
   "metadata": {},
   "source": [
    "On calcule la précision. Puisqu'on est en mse, on decide de jouer sur une erreur epsilon. En voyant que les valeurs oscillent entre 14 et 16, on choisi un epsilon cohérent. Sur une marge d'erreur de 0.2, nous obtenons une précision de 81% ce qui est acceptable pour la range de valeurs."
   ]
  },
  {
   "cell_type": "code",
   "execution_count": 41,
   "id": "579edb8b",
   "metadata": {},
   "outputs": [
    {
     "name": "stdout",
     "output_type": "stream",
     "text": [
      "PRECISION SUR LE TRAIN\n",
      "Precision à 2*10e-0 : 100.0%\n",
      "Precision à 2*10e-1 : 81.26%\n",
      "Precision à 2*10e-2 : 7.04%\n",
      "Precision à 2*10e-3 : 0.67%\n",
      "Precision à 2*10e-4 : 0.09%\n",
      "Precision à 2*10e-5 : 0.0%\n"
     ]
    }
   ],
   "source": [
    "print(\"PRECISION SUR LE TRAIN\")\n",
    "for j in range(0,6):\n",
    "    p=0\n",
    "    epsilon=2*10**-j\n",
    "    for i in range(len(y_pred)):\n",
    "        if np.abs(y_pred[i]-y_t[i])<epsilon:\n",
    "            p=p+1\n",
    "    precision=p/len(y_pred)*100\n",
    "    print (\"Precision à 2*10e-{} : {}%\".format(j, round(precision,2)))"
   ]
  },
  {
   "cell_type": "markdown",
   "id": "bd60c3a7",
   "metadata": {},
   "source": [
    "Nous répétons le même principe que précedemment mais sur le set de validation."
   ]
  },
  {
   "cell_type": "code",
   "execution_count": 15,
   "id": "a80fb7c2",
   "metadata": {},
   "outputs": [],
   "source": [
    "y_predval=model.predict(x_v)"
   ]
  },
  {
   "cell_type": "code",
   "execution_count": 42,
   "id": "48701f00",
   "metadata": {},
   "outputs": [
    {
     "name": "stdout",
     "output_type": "stream",
     "text": [
      "PRECISION SUR LA VALIDATION\n",
      "Precision à 2*10e-0 : 100.0%\n",
      "Precision à 2*10e-1 : 82.03%\n",
      "Precision à 2*10e-2 : 6.9%\n",
      "Precision à 2*10e-3 : 0.62%\n",
      "Precision à 2*10e-4 : 0.04%\n",
      "Precision à 2*10e-5 : 0.0%\n"
     ]
    }
   ],
   "source": [
    "print(\"PRECISION SUR LA VALIDATION\")\n",
    "for j in range(0,6):\n",
    "    p=0\n",
    "    epsilon=2*10**-j\n",
    "    for i in range(len(y_predval)):\n",
    "        if np.abs(y_predval[i]-y_v[i])<epsilon:\n",
    "            p=p+1\n",
    "    precision=p/len(y_predval)*100\n",
    "    print (\"Precision à 2*10e-{} : {}%\".format(j, round(precision,2)))"
   ]
  },
  {
   "cell_type": "raw",
   "id": "83d07705",
   "metadata": {},
   "source": [
    "PARTIE MODEL REDUIT"
   ]
  },
  {
   "cell_type": "markdown",
   "id": "5883f0f6",
   "metadata": {},
   "source": [
    "Notre modèle initial etant assez lourd, nous décidons de créer un modèle reduit pour chercher une performance similaire avec un coût de ressources moins élevé. La structure et les fit/compile reste identique au modèle précédent, seuls les paramètres et le nombres de couches seront modifiés."
   ]
  },
  {
   "cell_type": "code",
   "execution_count": 8,
   "id": "5218ce2c",
   "metadata": {},
   "outputs": [
    {
     "name": "stdout",
     "output_type": "stream",
     "text": [
      "Model: \"Modele_reduit\"\n",
      "_________________________________________________________________\n",
      " Layer (type)                Output Shape              Param #   \n",
      "=================================================================\n",
      " conv2d_7 (Conv2D)           (None, 32, 32, 4)         8         \n",
      "                                                                 \n",
      " conv2d_8 (Conv2D)           (None, 32, 32, 4)         20        \n",
      "                                                                 \n",
      " max_pooling2d_3 (MaxPooling  (None, 16, 16, 4)        0         \n",
      " 2D)                                                             \n",
      "                                                                 \n",
      " conv2d_9 (Conv2D)           (None, 16, 16, 8)         40        \n",
      "                                                                 \n",
      " conv2d_10 (Conv2D)          (None, 16, 16, 8)         72        \n",
      "                                                                 \n",
      " max_pooling2d_4 (MaxPooling  (None, 8, 8, 8)          0         \n",
      " 2D)                                                             \n",
      "                                                                 \n",
      " conv2d_11 (Conv2D)          (None, 8, 8, 12)          108       \n",
      "                                                                 \n",
      " conv2d_12 (Conv2D)          (None, 8, 8, 12)          156       \n",
      "                                                                 \n",
      " conv2d_13 (Conv2D)          (None, 8, 8, 12)          156       \n",
      "                                                                 \n",
      " max_pooling2d_5 (MaxPooling  (None, 4, 4, 12)         0         \n",
      " 2D)                                                             \n",
      "                                                                 \n",
      " flatten_1 (Flatten)         (None, 192)               0         \n",
      "                                                                 \n",
      " dense_4 (Dense)             (None, 192)               37056     \n",
      "                                                                 \n",
      " dropout_3 (Dropout)         (None, 192)               0         \n",
      "                                                                 \n",
      " dense_5 (Dense)             (None, 96)                18528     \n",
      "                                                                 \n",
      " dropout_4 (Dropout)         (None, 96)                0         \n",
      "                                                                 \n",
      " dense_6 (Dense)             (None, 48)                4656      \n",
      "                                                                 \n",
      " dropout_5 (Dropout)         (None, 48)                0         \n",
      "                                                                 \n",
      " dense_7 (Dense)             (None, 1)                 49        \n",
      "                                                                 \n",
      "=================================================================\n",
      "Total params: 60,849\n",
      "Trainable params: 60,849\n",
      "Non-trainable params: 0\n",
      "_________________________________________________________________\n"
     ]
    }
   ],
   "source": [
    "model2 = Sequential(name=\"Modele_reduit\")\n",
    "\n",
    "model2.add(Conv2D(4, 1,activation=\"relu\",input_shape=(x_t.shape[1::])))\n",
    "model2.add(Conv2D(4, 1,activation=\"relu\"))\n",
    "model2.add(MaxPooling2D((2,2),strides=(2,2)))\n",
    "\n",
    "model2.add(Conv2D(8, 1,activation=\"relu\"))\n",
    "model2.add(Conv2D(8, 1,activation=\"relu\"))\n",
    "model2.add(MaxPooling2D((2,2),strides=(2,2)))\n",
    "\n",
    "model2.add(Conv2D(12, 1,activation=\"relu\"))\n",
    "model2.add(Conv2D(12, 1,activation=\"relu\"))\n",
    "model2.add(Conv2D(12, 1,activation=\"relu\"))\n",
    "model2.add(MaxPooling2D((2,2),strides=(2,2)))\n",
    "\n",
    "\n",
    "model2.add(Flatten())\n",
    "model2.add(Dense(192,activation=\"relu\"))\n",
    "model2.add(Dropout(0.5))\n",
    "model2.add(Dense(96,activation=\"relu\"))\n",
    "model2.add(Dropout(0.5))\n",
    "model2.add(Dense(48,activation=\"relu\"))\n",
    "model2.add(Dropout(0.5))\n",
    "model2.add(Dense(1,activation=\"relu\"))\n",
    "\n",
    "\n",
    "\n",
    "model2.summary()"
   ]
  },
  {
   "cell_type": "code",
   "execution_count": 9,
   "id": "f23e6982",
   "metadata": {
    "scrolled": true
   },
   "outputs": [
    {
     "name": "stdout",
     "output_type": "stream",
     "text": [
      "Epoch 1/20\n",
      "64/64 [==============================] - 3s 39ms/step - loss: 86.2902 - val_loss: 0.7896\n",
      "Epoch 2/20\n",
      "64/64 [==============================] - 2s 35ms/step - loss: 16.9894 - val_loss: 0.9227\n",
      "Epoch 3/20\n",
      "64/64 [==============================] - 2s 36ms/step - loss: 13.6412 - val_loss: 0.9794\n",
      "Epoch 4/20\n",
      "64/64 [==============================] - 2s 36ms/step - loss: 12.4281 - val_loss: 0.6259\n",
      "Epoch 5/20\n",
      "64/64 [==============================] - 2s 35ms/step - loss: 11.9246 - val_loss: 0.6008\n",
      "Epoch 6/20\n",
      "64/64 [==============================] - 2s 36ms/step - loss: 11.3398 - val_loss: 0.7653\n",
      "Epoch 7/20\n",
      "64/64 [==============================] - 2s 37ms/step - loss: 11.0627 - val_loss: 0.7167\n",
      "Epoch 8/20\n",
      "64/64 [==============================] - 2s 37ms/step - loss: 10.7116 - val_loss: 0.3912\n",
      "Epoch 9/20\n",
      "64/64 [==============================] - 2s 35ms/step - loss: 10.5077 - val_loss: 0.7307\n",
      "Epoch 10/20\n",
      "64/64 [==============================] - 2s 38ms/step - loss: 10.0354 - val_loss: 0.5565\n",
      "Epoch 11/20\n",
      "64/64 [==============================] - 2s 37ms/step - loss: 9.8690 - val_loss: 0.2649\n",
      "Epoch 12/20\n",
      "64/64 [==============================] - 2s 38ms/step - loss: 9.6211 - val_loss: 0.4328\n",
      "Epoch 13/20\n",
      "64/64 [==============================] - 2s 37ms/step - loss: 9.4015 - val_loss: 0.7281\n",
      "Epoch 14/20\n",
      "64/64 [==============================] - 2s 39ms/step - loss: 9.2938 - val_loss: 0.1413\n",
      "Epoch 15/20\n",
      "64/64 [==============================] - 3s 40ms/step - loss: 9.1055 - val_loss: 0.6864\n",
      "Epoch 16/20\n",
      "64/64 [==============================] - 3s 40ms/step - loss: 8.8724 - val_loss: 0.4985\n",
      "Epoch 17/20\n",
      "64/64 [==============================] - 2s 37ms/step - loss: 8.8172 - val_loss: 0.4895\n",
      "Epoch 18/20\n",
      "64/64 [==============================] - 2s 37ms/step - loss: 8.6962 - val_loss: 0.5689\n",
      "Epoch 19/20\n",
      "64/64 [==============================] - 2s 37ms/step - loss: 8.6070 - val_loss: 0.4153\n",
      "Epoch 20/20\n",
      "64/64 [==============================] - 3s 39ms/step - loss: 8.6482 - val_loss: 0.2575\n"
     ]
    }
   ],
   "source": [
    "model2.compile(optimizer=\"Adam\",loss='mse')\n",
    "\n",
    "output2 = model2.fit(x_t, y_t,epochs=20, batch_size=batch_size,validation_data=(x_v,y_v))"
   ]
  },
  {
   "cell_type": "code",
   "execution_count": 10,
   "id": "d03015c3",
   "metadata": {},
   "outputs": [],
   "source": [
    "y_pred2=model2.predict(x_t)"
   ]
  },
  {
   "cell_type": "code",
   "execution_count": 11,
   "id": "e1ee3e24",
   "metadata": {},
   "outputs": [
    {
     "data": {
      "text/plain": [
       "<matplotlib.legend.Legend at 0x1f3802a5790>"
      ]
     },
     "execution_count": 11,
     "metadata": {},
     "output_type": "execute_result"
    },
    {
     "data": {
      "image/png": "[encoded data removed]",
      "text/plain": [
       "<Figure size 432x288 with 1 Axes>"
      ]
     },
     "metadata": {
      "needs_background": "light"
     },
     "output_type": "display_data"
    }
   ],
   "source": [
    "# Plotting the performance of the network\n",
    "plt.plot(output2.epoch, output.history['loss'], label='train')\n",
    "plt.plot(output2.epoch, output.history['val_loss'], label='val')\n",
    "plt.title('Training and validation performance')\n",
    "plt.ylabel('loss')\n",
    "plt.xlabel('epoch')\n",
    "plt.legend()"
   ]
  },
  {
   "cell_type": "code",
   "execution_count": 24,
   "id": "c33ab720",
   "metadata": {},
   "outputs": [
    {
     "name": "stdout",
     "output_type": "stream",
     "text": [
      "Precision à 5*10e-0 : 100.0%\n",
      "Precision à 5*10e-1 : 63.88%\n",
      "Precision à 5*10e-2 : 0.0%\n",
      "Precision à 5*10e-3 : 0.0%\n",
      "Precision à 5*10e-4 : 0.0%\n",
      "Precision à 5*10e-5 : 0.0%\n"
     ]
    }
   ],
   "source": [
    "for j in range(0,6):\n",
    "    p=0\n",
    "    epsilon=5*10**-j\n",
    "    for i in range(len(y_pred2)):\n",
    "        if np.abs(y_pred2[i]-y_t[i])<epsilon:\n",
    "            p=p+1\n",
    "    precision=p/len(y_pred2)*100\n",
    "    print (\"Precision à 5*10e-{} : {}%\".format(j, round(precision,2)))"
   ]
  },
  {
   "cell_type": "code",
   "execution_count": 33,
   "id": "8c58fdb2",
   "metadata": {},
   "outputs": [],
   "source": [
    "y_predval2=model2.predict(x_v)"
   ]
  },
  {
   "cell_type": "code",
   "execution_count": 37,
   "id": "976335fd",
   "metadata": {},
   "outputs": [
    {
     "name": "stdout",
     "output_type": "stream",
     "text": [
      "Precision à 5*10e-0 : 100.0%\n",
      "Precision à 5*10e-1 : 64.28%\n",
      "Precision à 5*10e-2 : 0.0%\n",
      "Precision à 5*10e-3 : 0.0%\n",
      "Precision à 5*10e-4 : 0.0%\n",
      "Precision à 5*10e-5 : 0.0%\n"
     ]
    }
   ],
   "source": [
    "for j in range(0,6):\n",
    "    p=0\n",
    "    epsilon=5*10**-j\n",
    "    for i in range(len(y_predval2)):\n",
    "        if np.abs(y_predval2[i]-y_v[i])<epsilon:\n",
    "            p=p+1\n",
    "    precision=p/len(y_predval2)*100\n",
    "    print (\"Precision à 5*10e-{} : {}%\".format(j, round(precision,2)))"
   ]
  },
  {
   "cell_type": "markdown",
   "id": "27a63336",
   "metadata": {},
   "source": [
    "Sur notre modèle reduit, on obtient une precision acceptable de 64% pour une valeur d'épsilon de 0.5. Cependant sachant que la range de notre sortie est de 1.5, cette précision n'est que peu pertinante et ne permets pas d'évaluer la performance de notre modèle sur un tel dataset.\n",
    "Finalement, malgré sa lourdeur, notre modèle initial reste plus performant et nous choisiront ce modèle comme notre modèle final."
   ]
  }
 ],
 "metadata": {
  "kernelspec": {
   "display_name": "Python 3",
   "language": "python",
   "name": "python3"
  },
  "language_info": {
   "codemirror_mode": {
    "name": "ipython",
    "version": 3
   },
   "file_extension": ".py",
   "mimetype": "text/x-python",
   "name": "python",
   "nbconvert_exporter": "python",
   "pygments_lexer": "ipython3",
   "version": "3.8.8"
  }
 },
 "nbformat": 4,
 "nbformat_minor": 5
}
